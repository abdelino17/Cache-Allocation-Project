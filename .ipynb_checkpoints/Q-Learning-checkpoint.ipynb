{
 "cells": [
  {
   "cell_type": "code",
   "execution_count": 1,
   "metadata": {},
   "outputs": [],
   "source": [
    "import numpy as np \n",
    "import gym\n",
    "from gym import spaces\n",
    "import random as rd\n",
    "\n",
    "import matplotlib.pyplot as plt\n",
    "from envs.NetworkOperatorEnv import NetworkOperatorEnv"
   ]
  },
  {
   "cell_type": "code",
   "execution_count": 2,
   "metadata": {},
   "outputs": [],
   "source": [
    "def eps_greedy(Q, s, eps=0.1):\n",
    "    '''\n",
    "    Epsilon greedy policy\n",
    "    '''\n",
    "    if np.random.uniform(0,1) < eps:\n",
    "        # Choose a random action\n",
    "        return np.random.randint(Q.shape[1])\n",
    "    else:\n",
    "        # Choose the action of a greedy policy\n",
    "        return greedy(Q, s)\n",
    "\n",
    "\n",
    "def greedy(Q, s):\n",
    "    '''\n",
    "    Greedy policy\n",
    "    return the index corresponding to the maximum action-state value\n",
    "    '''\n",
    "    return np.argmax(Q[s])\n",
    "\n",
    "def Q_learning(env, lr=0.01, num_episodes=10000, eps=0.3, gamma=0.95, eps_decay=0.00005):\n",
    "    nA = env.action_space.n\n",
    "    nS = env.observation_space.n\n",
    "    \n",
    "    \n",
    "    ind_ep =  []\n",
    "    costs =  []\n",
    "\n",
    "    # Initialize the Q matrix\n",
    "    # Q: matrix nS*nA where each row represent a state and each colums represent a different action\n",
    "    Q = np.zeros((nS, nA))\n",
    "    games_reward = []\n",
    "    test_rewards = []\n",
    "\n",
    "    for ep in range(num_episodes):\n",
    "        state = env.reset()\n",
    "        done = False\n",
    "        tot_rew = 0\n",
    "\n",
    "        # decay the epsilon value until it reaches the threshold of 0.01\n",
    "        if eps > 0.01:\n",
    "            eps -= eps_decay\n",
    "\n",
    "\n",
    "        action = eps_greedy(Q, state, eps) \n",
    "        \n",
    "        next_state, rew, done, _ = env.step(action) # Take one step in the environment\n",
    "    \n",
    "        # choose the next action (needed for the SARSA update)\n",
    "        next_action = eps_greedy(Q, next_state, eps) \n",
    "        # Q Learning update\n",
    "        Q[state][action] = Q[state][action] + lr*(rew + gamma*np.max(Q[next_state]) - Q[state][action])\n",
    "\n",
    "        state = next_state\n",
    "        action = next_action\n",
    "        tot_rew += rew\n",
    "        #if done:\n",
    "        games_reward.append(tot_rew)\n",
    "        \n",
    "        if (ep % 200) == 0:\n",
    "            print(\"Episode:{:5d}  Eps:{:2.4f}  Rew:{:2.4f}\".format(ep, eps, tot_rew))\n",
    "            ind_ep.append(ep)\n",
    "            costs.append(tot_rew)\n",
    "    \n",
    "    print(Q)\n",
    "    plt.plot(ind_ep, costs)\n",
    "    #plt.xlim(4000, 5000)\n",
    "    plt.title('Cout en fonction du nombre d\\' itération' )\n",
    "    plt.xlabel('Nombre d\\'itérations')\n",
    "    plt.ylabel('Cout')\n",
    "    plt.grid('on')\n",
    "    #plt.rcParams[\"figure.figsize\"] = [16, 9]\n",
    "    plt.show()  \n",
    "    \n",
    "    \n",
    "        # Test the policy every 300 episodes and print the results\n",
    "   #     if (ep % 300) == 0:\n",
    "   #         test_rew = run_episodes(env, Q, 1000)\n",
    "   #         print(\"Episode:{:5d}  Eps:{:2.4f}  Rew:{:2.4f}\".format(ep, eps, test_rew))\n",
    "   #         test_rewards.append(test_rew)\n",
    "\n",
    "    #return Q"
   ]
  },
  {
   "cell_type": "code",
   "execution_count": 3,
   "metadata": {},
   "outputs": [
    {
     "ename": "NameError",
     "evalue": "name 'eps_greedy' is not defined",
     "output_type": "error",
     "traceback": [
      "\u001b[0;31m---------------------------------------------------------------------------\u001b[0m",
      "\u001b[0;31mNameError\u001b[0m                                 Traceback (most recent call last)",
      "\u001b[0;32m<ipython-input-3-093fb20c2b56>\u001b[0m in \u001b[0;36m<module>\u001b[0;34m\u001b[0m\n\u001b[1;32m      1\u001b[0m \u001b[0menv\u001b[0m \u001b[0;34m=\u001b[0m \u001b[0mNetworkOperatorEnv\u001b[0m\u001b[0;34m(\u001b[0m\u001b[0;36m3\u001b[0m\u001b[0;34m,\u001b[0m \u001b[0;36m30\u001b[0m\u001b[0;34m)\u001b[0m\u001b[0;34m\u001b[0m\u001b[0;34m\u001b[0m\u001b[0m\n\u001b[0;32m----> 2\u001b[0;31m \u001b[0mQ_learning\u001b[0m\u001b[0;34m(\u001b[0m\u001b[0menv\u001b[0m\u001b[0;34m,\u001b[0m \u001b[0mlr\u001b[0m\u001b[0;34m=\u001b[0m\u001b[0;36m.1\u001b[0m\u001b[0;34m,\u001b[0m \u001b[0mnum_episodes\u001b[0m\u001b[0;34m=\u001b[0m\u001b[0;36m10000\u001b[0m\u001b[0;34m,\u001b[0m \u001b[0meps\u001b[0m\u001b[0;34m=\u001b[0m\u001b[0;36m0.4\u001b[0m\u001b[0;34m,\u001b[0m \u001b[0mgamma\u001b[0m\u001b[0;34m=\u001b[0m\u001b[0;36m0.95\u001b[0m\u001b[0;34m,\u001b[0m \u001b[0meps_decay\u001b[0m\u001b[0;34m=\u001b[0m\u001b[0;36m0.001\u001b[0m\u001b[0;34m)\u001b[0m\u001b[0;34m\u001b[0m\u001b[0;34m\u001b[0m\u001b[0m\n\u001b[0m",
      "\u001b[0;32m<ipython-input-2-9e13f33affc1>\u001b[0m in \u001b[0;36mQ_learning\u001b[0;34m(env, lr, num_episodes, eps, gamma, eps_decay)\u001b[0m\n\u001b[1;32m     23\u001b[0m \u001b[0;34m\u001b[0m\u001b[0m\n\u001b[1;32m     24\u001b[0m \u001b[0;34m\u001b[0m\u001b[0m\n\u001b[0;32m---> 25\u001b[0;31m         \u001b[0maction\u001b[0m \u001b[0;34m=\u001b[0m \u001b[0meps_greedy\u001b[0m\u001b[0;34m(\u001b[0m\u001b[0mQ\u001b[0m\u001b[0;34m,\u001b[0m \u001b[0mstate\u001b[0m\u001b[0;34m,\u001b[0m \u001b[0meps\u001b[0m\u001b[0;34m)\u001b[0m\u001b[0;34m\u001b[0m\u001b[0;34m\u001b[0m\u001b[0m\n\u001b[0m\u001b[1;32m     26\u001b[0m \u001b[0;34m\u001b[0m\u001b[0m\n\u001b[1;32m     27\u001b[0m         \u001b[0mnext_state\u001b[0m\u001b[0;34m,\u001b[0m \u001b[0mrew\u001b[0m\u001b[0;34m,\u001b[0m \u001b[0mdone\u001b[0m\u001b[0;34m,\u001b[0m \u001b[0m_\u001b[0m \u001b[0;34m=\u001b[0m \u001b[0menv\u001b[0m\u001b[0;34m.\u001b[0m\u001b[0mstep\u001b[0m\u001b[0;34m(\u001b[0m\u001b[0maction\u001b[0m\u001b[0;34m)\u001b[0m \u001b[0;31m# Take one step in the environment\u001b[0m\u001b[0;34m\u001b[0m\u001b[0;34m\u001b[0m\u001b[0m\n",
      "\u001b[0;31mNameError\u001b[0m: name 'eps_greedy' is not defined"
     ]
    }
   ],
   "source": [
    "env = NetworkOperatorEnv(3, 30)\n",
    "Q_learning(env, lr=.1, num_episodes=10000, eps=0.4, gamma=0.95, eps_decay=0.001)"
   ]
  },
  {
   "cell_type": "code",
   "execution_count": null,
   "metadata": {},
   "outputs": [],
   "source": []
  }
 ],
 "metadata": {
  "kernelspec": {
   "display_name": "Python 3",
   "language": "python",
   "name": "python3"
  },
  "language_info": {
   "codemirror_mode": {
    "name": "ipython",
    "version": 3
   },
   "file_extension": ".py",
   "mimetype": "text/x-python",
   "name": "python",
   "nbconvert_exporter": "python",
   "pygments_lexer": "ipython3",
   "version": "3.7.5"
  }
 },
 "nbformat": 4,
 "nbformat_minor": 2
}
