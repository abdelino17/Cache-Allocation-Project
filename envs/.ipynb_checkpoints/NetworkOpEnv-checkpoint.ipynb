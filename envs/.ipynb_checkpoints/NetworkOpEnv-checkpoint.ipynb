{
 "cells": [
  {
   "cell_type": "code",
   "execution_count": 1,
   "metadata": {},
   "outputs": [],
   "source": [
    "import gym\n",
    "from gym import spaces"
   ]
  },
  {
   "cell_type": "code",
   "execution_count": 2,
   "metadata": {},
   "outputs": [],
   "source": [
    "class NetworkOperatorEnv(gym.Env):\n",
    "    \"\"\"Custom Environment that follows gym interface\"\"\"\n",
    "    metadata = {'render.modes': ['human']}\n",
    "\n",
    "    def __init__(self, cache_capacity):\n",
    "        \n",
    "        rd.seed(5)\n",
    "        k = 3\n",
    "        \n",
    "        obs_space = [spaces.Discrete(cache_capacity) for i in range(k)]\n",
    "        \n",
    "        self.action_space = spaces.Discrete(7)\n",
    "        self.observation_space = spaces.Tuple(obs_space)\n",
    "    \n",
    "    def step(self, action):\n",
    "    # Execute one time step within the environment\n",
    "        pass\n",
    "        \n",
    "    def reset(self):\n",
    "    # Reset the state of the environment to an initial state\n",
    "        pass\n",
    "    \n",
    "    def render(self, mode='human', close=False):\n",
    "    # Render the environment to the screen    \n",
    "        plt.title('Evaluation' )\n",
    "        plt.xlabel('Number of iterations')\n",
    "        plt.ylabel('cost')\n",
    "        plt.grid('on')\n",
    "        plt.close()\n",
    "        plt.show()"
   ]
  },
  {
   "cell_type": "code",
   "execution_count": null,
   "metadata": {},
   "outputs": [],
   "source": []
  }
 ],
 "metadata": {
  "kernelspec": {
   "display_name": "Python 3",
   "language": "python",
   "name": "python3"
  },
  "language_info": {
   "codemirror_mode": {
    "name": "ipython",
    "version": 3
   },
   "file_extension": ".py",
   "mimetype": "text/x-python",
   "name": "python",
   "nbconvert_exporter": "python",
   "pygments_lexer": "ipython3",
   "version": "3.7.5"
  }
 },
 "nbformat": 4,
 "nbformat_minor": 2
}
